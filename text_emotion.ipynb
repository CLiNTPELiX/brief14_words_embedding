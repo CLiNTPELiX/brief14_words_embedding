{
 "cells": [
  {
   "cell_type": "code",
   "execution_count": 439,
   "id": "equal-montreal",
   "metadata": {},
   "outputs": [],
   "source": [
    "from time import time\n",
    "from collections import defaultdict\n",
    "\n",
    "import numpy as np\n",
    "import pandas as pd\n",
    "import matplotlib.pyplot as plt\n",
    "%matplotlib inline"
   ]
  },
  {
   "cell_type": "code",
   "execution_count": 440,
   "id": "outdoor-aspect",
   "metadata": {},
   "outputs": [],
   "source": [
    "df2 = pd.read_csv(\"datasets/text_emotion.csv\")"
   ]
  },
  {
   "cell_type": "code",
   "execution_count": 441,
   "id": "incorporate-blanket",
   "metadata": {},
   "outputs": [],
   "source": [
    "import matplotlib.pyplot as plt\n",
    "plt.style.use('ggplot')\n",
    "\n",
    "def plot_history(history):\n",
    "    acc = history.history['accuracy']\n",
    "    val_acc = history.history['val_accuracy']\n",
    "    loss = history.history['loss']\n",
    "    val_loss = history.history['val_loss']\n",
    "    x = range(1, len(acc) + 1)\n",
    "\n",
    "    plt.figure(figsize=(12, 5))\n",
    "    plt.subplot(1, 2, 1)\n",
    "    plt.plot(x, acc, 'b', label='Training acc')\n",
    "    plt.plot(x, val_acc, 'r', label='Validation acc')\n",
    "    plt.title('Training and validation accuracy')\n",
    "    plt.legend()\n",
    "    plt.subplot(1, 2, 2)\n",
    "    plt.plot(x, loss, 'b', label='Training loss')\n",
    "    plt.plot(x, val_loss, 'r', label='Validation loss')\n",
    "    plt.title('Training and validation loss')\n",
    "    plt.legend()\n"
   ]
  },
  {
   "cell_type": "code",
   "execution_count": 442,
   "id": "adverse-arrival",
   "metadata": {},
   "outputs": [
    {
     "name": "stdout",
     "output_type": "stream",
     "text": [
      "Dimension : (40000, 4) \n",
      "-----------\n",
      "\n",
      "Datas format :\n",
      "--------------\n",
      " tweet_id      int64\n",
      "sentiment    object\n",
      "author       object\n",
      "content      object\n",
      "dtype: object\n",
      "\n",
      "# of empty cells :\n",
      "------------------\n",
      " tweet_id     0\n",
      "sentiment    0\n",
      "author       0\n",
      "content      0\n",
      "dtype: int64\n",
      "\n",
      "Values of the sentiment column :\n",
      "--------------------------------\n",
      " ['empty' 'sadness' 'enthusiasm' 'neutral' 'worry' 'surprise' 'love' 'fun'\n",
      " 'hate' 'happiness' 'boredom' 'relief' 'anger']\n"
     ]
    }
   ],
   "source": [
    "print(\"Dimension :\", df2.shape, \"\\n-----------\")\n",
    "print(\"\\nDatas format :\\n--------------\\n\", df2.dtypes)\n",
    "print(\"\\n# of empty cells :\\n------------------\\n\", df2.isnull().sum())\n",
    "print(\"\\nValues of the sentiment column :\\n--------------------------------\\n\", df2.sentiment.unique())"
   ]
  },
  {
   "cell_type": "code",
   "execution_count": 443,
   "id": "personalized-darwin",
   "metadata": {},
   "outputs": [
    {
     "name": "stdout",
     "output_type": "stream",
     "text": [
      "\n",
      "Sentiment's word frequency in the df2 :\n",
      "---------------------------------------\n",
      " sentiment\n",
      "anger          110\n",
      "boredom        179\n",
      "enthusiasm     759\n",
      "empty          827\n",
      "hate          1323\n",
      "relief        1526\n",
      "fun           1776\n",
      "surprise      2187\n",
      "love          3842\n",
      "sadness       5165\n",
      "happiness     5209\n",
      "worry         8459\n",
      "neutral       8638\n",
      "dtype: int64\n"
     ]
    }
   ],
   "source": [
    "df_author = df2.groupby(['sentiment']).size().sort_values()\n",
    "print(\"\\nSentiment's word frequency in the df2 :\\n---------------------------------------\\n\", df_author)"
   ]
  },
  {
   "cell_type": "code",
   "execution_count": 444,
   "id": "printable-apartment",
   "metadata": {},
   "outputs": [
    {
     "data": {
      "text/plain": [
       "(40000, 2)"
      ]
     },
     "execution_count": 444,
     "metadata": {},
     "output_type": "execute_result"
    }
   ],
   "source": [
    "df2 = df2.drop(['tweet_id', 'author'], axis = 1)\n",
    "df2.shape"
   ]
  },
  {
   "cell_type": "code",
   "execution_count": 445,
   "id": "suburban-funeral",
   "metadata": {},
   "outputs": [
    {
     "name": "stdout",
     "output_type": "stream",
     "text": [
      "----------------------------\n",
      "First lines of the dataframe\n",
      "----------------------------\n"
     ]
    },
    {
     "data": {
      "text/html": [
       "<div>\n",
       "<style scoped>\n",
       "    .dataframe tbody tr th:only-of-type {\n",
       "        vertical-align: middle;\n",
       "    }\n",
       "\n",
       "    .dataframe tbody tr th {\n",
       "        vertical-align: top;\n",
       "    }\n",
       "\n",
       "    .dataframe thead th {\n",
       "        text-align: right;\n",
       "    }\n",
       "</style>\n",
       "<table border=\"1\" class=\"dataframe\">\n",
       "  <thead>\n",
       "    <tr style=\"text-align: right;\">\n",
       "      <th></th>\n",
       "      <th>sentiment</th>\n",
       "      <th>content</th>\n",
       "    </tr>\n",
       "  </thead>\n",
       "  <tbody>\n",
       "    <tr>\n",
       "      <th>0</th>\n",
       "      <td>empty</td>\n",
       "      <td>@tiffanylue i know  i was listenin to bad habi...</td>\n",
       "    </tr>\n",
       "    <tr>\n",
       "      <th>1</th>\n",
       "      <td>sadness</td>\n",
       "      <td>Layin n bed with a headache  ughhhh...waitin o...</td>\n",
       "    </tr>\n",
       "    <tr>\n",
       "      <th>2</th>\n",
       "      <td>sadness</td>\n",
       "      <td>Funeral ceremony...gloomy friday...</td>\n",
       "    </tr>\n",
       "    <tr>\n",
       "      <th>3</th>\n",
       "      <td>enthusiasm</td>\n",
       "      <td>wants to hang out with friends SOON!</td>\n",
       "    </tr>\n",
       "    <tr>\n",
       "      <th>4</th>\n",
       "      <td>neutral</td>\n",
       "      <td>@dannycastillo We want to trade with someone w...</td>\n",
       "    </tr>\n",
       "  </tbody>\n",
       "</table>\n",
       "</div>"
      ],
      "text/plain": [
       "    sentiment                                            content\n",
       "0       empty  @tiffanylue i know  i was listenin to bad habi...\n",
       "1     sadness  Layin n bed with a headache  ughhhh...waitin o...\n",
       "2     sadness                Funeral ceremony...gloomy friday...\n",
       "3  enthusiasm               wants to hang out with friends SOON!\n",
       "4     neutral  @dannycastillo We want to trade with someone w..."
      ]
     },
     "execution_count": 445,
     "metadata": {},
     "output_type": "execute_result"
    }
   ],
   "source": [
    "print(\"----------------------------\")\n",
    "print(\"First lines of the dataframe\")\n",
    "print(\"----------------------------\")\n",
    "df2.head()"
   ]
  },
  {
   "cell_type": "code",
   "execution_count": 446,
   "id": "desirable-appreciation",
   "metadata": {},
   "outputs": [
    {
     "data": {
      "text/html": [
       "<div>\n",
       "<style scoped>\n",
       "    .dataframe tbody tr th:only-of-type {\n",
       "        vertical-align: middle;\n",
       "    }\n",
       "\n",
       "    .dataframe tbody tr th {\n",
       "        vertical-align: top;\n",
       "    }\n",
       "\n",
       "    .dataframe thead th {\n",
       "        text-align: right;\n",
       "    }\n",
       "</style>\n",
       "<table border=\"1\" class=\"dataframe\">\n",
       "  <thead>\n",
       "    <tr style=\"text-align: right;\">\n",
       "      <th></th>\n",
       "      <th>label</th>\n",
       "      <th>sentence</th>\n",
       "    </tr>\n",
       "  </thead>\n",
       "  <tbody>\n",
       "    <tr>\n",
       "      <th>0</th>\n",
       "      <td>empty</td>\n",
       "      <td>@tiffanylue i know  i was listenin to bad habi...</td>\n",
       "    </tr>\n",
       "    <tr>\n",
       "      <th>1</th>\n",
       "      <td>sadness</td>\n",
       "      <td>Layin n bed with a headache  ughhhh...waitin o...</td>\n",
       "    </tr>\n",
       "    <tr>\n",
       "      <th>2</th>\n",
       "      <td>sadness</td>\n",
       "      <td>Funeral ceremony...gloomy friday...</td>\n",
       "    </tr>\n",
       "    <tr>\n",
       "      <th>3</th>\n",
       "      <td>enthusiasm</td>\n",
       "      <td>wants to hang out with friends SOON!</td>\n",
       "    </tr>\n",
       "    <tr>\n",
       "      <th>4</th>\n",
       "      <td>neutral</td>\n",
       "      <td>@dannycastillo We want to trade with someone w...</td>\n",
       "    </tr>\n",
       "  </tbody>\n",
       "</table>\n",
       "</div>"
      ],
      "text/plain": [
       "        label                                           sentence\n",
       "0       empty  @tiffanylue i know  i was listenin to bad habi...\n",
       "1     sadness  Layin n bed with a headache  ughhhh...waitin o...\n",
       "2     sadness                Funeral ceremony...gloomy friday...\n",
       "3  enthusiasm               wants to hang out with friends SOON!\n",
       "4     neutral  @dannycastillo We want to trade with someone w..."
      ]
     },
     "execution_count": 446,
     "metadata": {},
     "output_type": "execute_result"
    }
   ],
   "source": [
    "df2.rename(columns={\"content\": \"sentence\", \"sentiment\": \"label\"}, inplace=True)\n",
    "df2.head()"
   ]
  },
  {
   "cell_type": "code",
   "execution_count": 447,
   "id": "annoying-buffalo",
   "metadata": {},
   "outputs": [],
   "source": [
    "from sklearn.model_selection import train_test_split\n",
    "\n",
    "y = df2[\"label\"].values\n",
    "sentences = df2[\"sentence\"].values\n",
    "\n",
    "sentences_train, sentences_test, y_train, y_test = train_test_split(\n",
    "   sentences, y, test_size=0.25, random_state=1000)"
   ]
  },
  {
   "cell_type": "code",
   "execution_count": 448,
   "id": "played-december",
   "metadata": {},
   "outputs": [
    {
     "data": {
      "text/plain": [
       "(40000,)"
      ]
     },
     "execution_count": 448,
     "metadata": {},
     "output_type": "execute_result"
    }
   ],
   "source": [
    "df2[\"sentence\"].shape"
   ]
  },
  {
   "cell_type": "code",
   "execution_count": 449,
   "id": "fiscal-ferry",
   "metadata": {},
   "outputs": [],
   "source": [
    "from sklearn.feature_extraction.text import CountVectorizer\n",
    "from sklearn import preprocessing\n",
    "\n",
    "le = preprocessing.LabelEncoder()\n",
    "\n",
    "vectorizer = CountVectorizer(strip_accents='ascii', lowercase=True, stop_words='english', ngram_range=(1,1))\n",
    "#vectorizer.fit(sentences)\n",
    "\n",
    "#vectorizer = TfidfVectorizer(stop_words='english', strip_accents='ascii', lowercase=True)\n",
    "\n",
    "X = vectorizer.fit_transform(sentences)\n",
    "y  = le.fit_transform(df2[\"label\"].values)\n",
    "\n",
    "\n",
    "X_train, X_test, y_train, y_test = train_test_split(\n",
    "   X, y, test_size=0.25, random_state=1000)\n",
    "X_train\n",
    "\n",
    "# To avoid error \n",
    "X_test= X_test.sorted_indices()\n",
    "X_train= X_train.sorted_indices()"
   ]
  },
  {
   "cell_type": "code",
   "execution_count": 450,
   "id": "compressed-secret",
   "metadata": {},
   "outputs": [
    {
     "name": "stdout",
     "output_type": "stream",
     "text": [
      "Accuracy: 32.0 %\n"
     ]
    }
   ],
   "source": [
    "\n",
    "from sklearn.linear_model import SGDClassifier, LogisticRegression\n",
    "\n",
    "classifier = SGDClassifier()\n",
    "classifier.fit(X_train, y_train)\n",
    "score = classifier.score(X_test, y_test)\n",
    "\n",
    "print(\"Accuracy:\", 100*score, \"%\")"
   ]
  },
  {
   "cell_type": "code",
   "execution_count": 451,
   "id": "worth-martial",
   "metadata": {},
   "outputs": [
    {
     "data": {
      "text/plain": [
       "(30000, 47912)"
      ]
     },
     "execution_count": 451,
     "metadata": {},
     "output_type": "execute_result"
    }
   ],
   "source": [
    "X_train.shape"
   ]
  },
  {
   "cell_type": "code",
   "execution_count": 452,
   "id": "radical-richmond",
   "metadata": {},
   "outputs": [
    {
     "data": {
      "text/plain": [
       "<10x47912 sparse matrix of type '<class 'numpy.int64'>'\n",
       "\twith 73 stored elements in Compressed Sparse Row format>"
      ]
     },
     "execution_count": 452,
     "metadata": {},
     "output_type": "execute_result"
    }
   ],
   "source": [
    "X_train[:10]"
   ]
  },
  {
   "cell_type": "code",
   "execution_count": 453,
   "id": "obvious-implement",
   "metadata": {},
   "outputs": [],
   "source": [
    "#from keras.models import Sequentialw\n",
    "from tensorflow import keras\n",
    "from keras import layers, Sequential\n",
    "\n",
    "input_dim = X_train.shape[1]  # Number of features\n",
    "\n",
    "model = Sequential()\n",
    "#model.add(layers.Dense(units = 100, activation = 'linear', input_dim=input_dim))\n",
    "model.add(layers.Dense(16, input_dim=input_dim, activation='relu'))\n",
    "model.add(layers.Dropout(.2))\n",
    "model.add(layers.Dense(64, input_dim=input_dim, activation='relu'))\n",
    "#model.add(layers.Dropout(.5))\n",
    "#model.add(layers.Dense(64, input_dim=input_dim, activation='relu'))\n",
    "model.add(layers.Dense(14, activation='softmax'))"
   ]
  },
  {
   "cell_type": "code",
   "execution_count": 454,
   "id": "legislative-parker",
   "metadata": {},
   "outputs": [
    {
     "name": "stdout",
     "output_type": "stream",
     "text": [
      "Model: \"sequential\"\n",
      "_________________________________________________________________\n",
      "Layer (type)                 Output Shape              Param #   \n",
      "=================================================================\n",
      "dense (Dense)                (None, 16)                766608    \n",
      "_________________________________________________________________\n",
      "dropout (Dropout)            (None, 16)                0         \n",
      "_________________________________________________________________\n",
      "dense_1 (Dense)              (None, 64)                1088      \n",
      "_________________________________________________________________\n",
      "dense_2 (Dense)              (None, 14)                910       \n",
      "=================================================================\n",
      "Total params: 768,606\n",
      "Trainable params: 768,606\n",
      "Non-trainable params: 0\n",
      "_________________________________________________________________\n"
     ]
    }
   ],
   "source": [
    "model.compile(loss='SparseCategoricalCrossentropy', \n",
    "              optimizer='adam', \n",
    "              metrics=['accuracy'])\n",
    "model.summary()"
   ]
  },
  {
   "cell_type": "markdown",
   "id": "identified-investing",
   "metadata": {},
   "source": [
    "* ngram (1,1), epoch=15, batch_size=128 \n",
    "Epoch 4/15\n",
    "235/235 [==============================] - 26s 108ms/step - loss: 1.5010 - accuracy: 0.5117 - val_loss: 1.8953 - val_accuracy: 0.3591\n",
    "\n",
    "* ngram (2,2), epoch=15, batch_size=128 \n",
    "Epoch 3/15\n",
    "235/235 [==============================] - 76s 322ms/step - loss: 1.4288 - accuracy: 0.5622 - val_loss: 2.0427 - val_accuracy: 0.3099\n",
    "\n",
    "* ngram_range (1,2), epoch=15, batch_size=128 \n",
    "Epoch 3/15\n",
    "235/235 [==============================] - 80s 341ms/step - loss: 1.3421 - accuracy: 0.5792 - val_loss: 1.9095 - val_accuracy: 0.3569\n",
    "\n",
    "* w/o ngram_range epoch=15, batch_size=128 \n",
    "Epoch 5/10\n",
    "235/235 [==============================] - 15s 64ms/step - loss: 1.4175 - accuracy: 0.5314 - val_loss: 1.9055 - val_accuracy: 0.3637\n",
    "\n",
    "* Epoch 3/10 epoch=15, batch_size=128 \n",
    "vectorizer = CountVectorizer(strip_accents='ascii', lowercase=True, stop_words='english')\n",
    "235/235 [==============================] - 18s 74ms/step - loss: 1.7056 - accuracy: 0.4361 - val_loss: 1.8982 - val_accuracy: 0.3600\n",
    "\n",
    "* Epoch 3/10 epoch=15, batch_size=128 \n",
    "235/235 [==============================] - 65s 277ms/step - loss: 1.3419 - accuracy: 0.5846 - val_loss: 1.9235 - val_accuracy: 0.3543\n",
    "\n",
    "* Epoch 6/10 batch_size=1024\n",
    "model = Sequential()\n",
    "#model.add(layers.Dense(units = 100, activation = 'linear', input_dim=input_dim))\n",
    "model.add(layers.Dense(16, input_dim=input_dim, activation='relu'))\n",
    "#model.add(layers.Dropout(.8))\n",
    "model.add(layers.Dense(64, input_dim=input_dim, activation='relu'))\n",
    "model.add(layers.Dropout(.8))\n",
    "#model.add(layers.Dense(64, input_dim=input_dim, activation='relu'))\n",
    "model.add(layers.Dense(14, activation='softmax'))\n",
    "\n",
    "30/30 [==============================] - 3s 89ms/step - loss: 1.4640 - accuracy: 0.5403 - val_loss: 1.9921 - val_accuracy: 0.3384\n"
   ]
  },
  {
   "cell_type": "code",
   "execution_count": 455,
   "id": "twenty-chuck",
   "metadata": {},
   "outputs": [
    {
     "name": "stdout",
     "output_type": "stream",
     "text": [
      "Epoch 1/10\n",
      "30/30 [==============================] - 3s 47ms/step - loss: 2.6113 - accuracy: 0.1675 - val_loss: 2.4610 - val_accuracy: 0.2102\n",
      "Epoch 2/10\n",
      "30/30 [==============================] - 1s 34ms/step - loss: 2.3702 - accuracy: 0.2118 - val_loss: 2.2062 - val_accuracy: 0.2102\n",
      "Epoch 3/10\n",
      "30/30 [==============================] - 1s 33ms/step - loss: 2.1392 - accuracy: 0.2503 - val_loss: 2.1006 - val_accuracy: 0.3003\n",
      "Epoch 4/10\n",
      "30/30 [==============================] - 1s 34ms/step - loss: 1.9760 - accuracy: 0.3726 - val_loss: 2.0197 - val_accuracy: 0.3342\n",
      "Epoch 5/10\n",
      "30/30 [==============================] - 1s 32ms/step - loss: 1.8125 - accuracy: 0.4326 - val_loss: 1.9748 - val_accuracy: 0.3376\n",
      "Epoch 6/10\n",
      "30/30 [==============================] - 1s 35ms/step - loss: 1.6568 - accuracy: 0.4831 - val_loss: 1.9612 - val_accuracy: 0.3496\n",
      "Epoch 7/10\n",
      "30/30 [==============================] - 1s 33ms/step - loss: 1.4934 - accuracy: 0.5341 - val_loss: 1.9743 - val_accuracy: 0.3471\n",
      "Epoch 8/10\n",
      "30/30 [==============================] - 1s 31ms/step - loss: 1.3347 - accuracy: 0.5847 - val_loss: 2.0034 - val_accuracy: 0.3425\n",
      "Epoch 9/10\n",
      "30/30 [==============================] - 1s 32ms/step - loss: 1.1795 - accuracy: 0.6401 - val_loss: 2.0535 - val_accuracy: 0.3346\n",
      "Epoch 10/10\n",
      "30/30 [==============================] - 1s 41ms/step - loss: 1.0341 - accuracy: 0.6944 - val_loss: 2.1116 - val_accuracy: 0.3266\n"
     ]
    }
   ],
   "source": [
    "history = model.fit(X_train, y_train,\n",
    "                    epochs=10,\n",
    "                    verbose=True,\n",
    "                    validation_data=(X_test, y_test),\n",
    "                    batch_size=1024)\n",
    "\n",
    "from keras.backend import clear_session\n",
    "clear_session()"
   ]
  },
  {
   "cell_type": "code",
   "execution_count": 456,
   "id": "interesting-judgment",
   "metadata": {
    "scrolled": true
   },
   "outputs": [
    {
     "data": {
      "image/png": "[encoded data removed]",
      "text/plain": [
       "<Figure size 432x288 with 3 Axes>"
      ]
     },
     "metadata": {},
     "output_type": "display_data"
    }
   ],
   "source": [
    "import matplotlib.pyplot as plt\n",
    "\n",
    "# Create two subplots and unpack the output array immediately\n",
    "fig, (ax1, ax2, ax3) = plt.subplots(3, 1, constrained_layout=True)\n",
    "\n",
    "# Add a title to the axes\n",
    "ax1.set_title('LOSS = Sparse Categorical Crossentropy per EPOCH')\n",
    "ax2.set_title('ACCURACY per EPOCH')\n",
    "ax3.set_title('VAL_ACCURACY per EPOCH')\n",
    "\n",
    "# Add an x-label to the axes\n",
    "ax1.set_xlabel('EPOCHS')\n",
    "ax2.set_xlabel('EPOCHS')\n",
    "ax3.set_xlabel('EPOCHS')\n",
    "\n",
    "# Add a y-label to the axes\n",
    "ax1.set_ylabel('LOSS')\n",
    "ax2.set_ylabel('ACCURACY')\n",
    "ax3.set_ylabel('VAL_ACCURACY')\n",
    "\n",
    "\n",
    "# Plot results\n",
    "ax1.plot(history.history['loss'])\n",
    "ax2.plot(history.history['accuracy'])\n",
    "ax3.plot(history.history['val_accuracy'])\n",
    "\n",
    "# Add a grid\n",
    "ax1.grid(True)\n",
    "ax2.grid(True)\n",
    "ax3.grid(True)\n",
    "\n",
    "plt.show()"
   ]
  },
  {
   "cell_type": "code",
   "execution_count": 457,
   "id": "corrected-replacement",
   "metadata": {},
   "outputs": [],
   "source": [
    "### from keras.models import Sequentialw\n",
    "from tensorflow import keras\n",
    "from keras import layers, Sequential\n",
    "\n",
    "input_dim = X_train.shape[1]  # Number of features\n",
    "\n",
    "model = Sequential()\n",
    "#model.add(layers.Dense(units = 100, activation = 'linear', input_dim=input_dim))\n",
    "model.add(layers.Dense(16, input_dim=input_dim, activation='relu'))\n",
    "#model.add(layers.Dropout(.5))\n",
    "model.add(layers.Dense(64, input_dim=input_dim, activation='relu'))\n",
    "model.add(layers.Dropout(.5))\n",
    "#model.add(layers.Dense(64, input_dim=input_dim, activation='relu'))\n",
    "model.add(layers.Dense(14, activation='softmax'))"
   ]
  },
  {
   "cell_type": "code",
   "execution_count": 458,
   "id": "hairy-durham",
   "metadata": {},
   "outputs": [
    {
     "name": "stdout",
     "output_type": "stream",
     "text": [
      "Model: \"sequential\"\n",
      "_________________________________________________________________\n",
      "Layer (type)                 Output Shape              Param #   \n",
      "=================================================================\n",
      "dense (Dense)                (None, 16)                766608    \n",
      "_________________________________________________________________\n",
      "dense_1 (Dense)              (None, 64)                1088      \n",
      "_________________________________________________________________\n",
      "dropout (Dropout)            (None, 64)                0         \n",
      "_________________________________________________________________\n",
      "dense_2 (Dense)              (None, 14)                910       \n",
      "=================================================================\n",
      "Total params: 768,606\n",
      "Trainable params: 768,606\n",
      "Non-trainable params: 0\n",
      "_________________________________________________________________\n"
     ]
    }
   ],
   "source": [
    "model.compile(loss='SparseCategoricalCrossentropy', \n",
    "              optimizer='adam', \n",
    "              metrics=['accuracy'])\n",
    "model.summary()"
   ]
  },
  {
   "cell_type": "markdown",
   "id": "applied-darwin",
   "metadata": {},
   "source": [
    "* ngram (1,1), epoch=15, batch_size=128 \n",
    "Epoch 4/15\n",
    "235/235 [==============================] - 26s 108ms/step - loss: 1.5010 - accuracy: 0.5117 - val_loss: 1.8953 - val_accuracy: 0.3591\n",
    "\n",
    "* ngram (2,2), epoch=15, batch_size=128 \n",
    "Epoch 3/15\n",
    "235/235 [==============================] - 76s 322ms/step - loss: 1.4288 - accuracy: 0.5622 - val_loss: 2.0427 - val_accuracy: 0.3099\n",
    "\n",
    "* ngram_range (1,2), epoch=15, batch_size=128 \n",
    "Epoch 3/15\n",
    "235/235 [==============================] - 80s 341ms/step - loss: 1.3421 - accuracy: 0.5792 - val_loss: 1.9095 - val_accuracy: 0.3569\n",
    "\n",
    "* w/o ngram_range epoch=15, batch_size=128 \n",
    "Epoch 5/10\n",
    "235/235 [==============================] - 15s 64ms/step - loss: 1.4175 - accuracy: 0.5314 - val_loss: 1.9055 - val_accuracy: 0.3637\n",
    "\n",
    "* Epoch 3/10 epoch=15, batch_size=128 \n",
    "vectorizer = CountVectorizer(strip_accents='ascii', lowercase=True, stop_words='english')\n",
    "235/235 [==============================] - 18s 74ms/step - loss: 1.7056 - accuracy: 0.4361 - val_loss: 1.8982 - val_accuracy: 0.3600\n",
    "\n",
    "* Epoch 3/10 epoch=15, batch_size=128 \n",
    "235/235 [==============================] - 65s 277ms/step - loss: 1.3419 - accuracy: 0.5846 - val_loss: 1.9235 - val_accuracy: 0.3543\n",
    "\n",
    "* Epoch 6/10 batch_size=1024\n",
    "model = Sequential()\n",
    "#model.add(layers.Dense(units = 100, activation = 'linear', input_dim=input_dim))\n",
    "model.add(layers.Dense(16, input_dim=input_dim, activation='relu'))\n",
    "#model.add(layers.Dropout(.8))\n",
    "model.add(layers.Dense(64, input_dim=input_dim, activation='relu'))\n",
    "model.add(layers.Dropout(.8))\n",
    "#model.add(layers.Dense(64, input_dim=input_dim, activation='relu'))\n",
    "model.add(layers.Dense(14, activation='softmax'))\n",
    "\n",
    "30/30 [==============================] - 3s 89ms/step - loss: 1.4640 - accuracy: 0.5403 - val_loss: 1.9921 - val_accuracy: 0.3384\n"
   ]
  },
  {
   "cell_type": "code",
   "execution_count": 459,
   "id": "little-opposition",
   "metadata": {},
   "outputs": [
    {
     "name": "stdout",
     "output_type": "stream",
     "text": [
      "Epoch 1/10\n",
      "30/30 [==============================] - 2s 47ms/step - loss: 2.6220 - accuracy: 0.1606 - val_loss: 2.5272 - val_accuracy: 0.2125\n",
      "Epoch 2/10\n",
      "30/30 [==============================] - 1s 36ms/step - loss: 2.4545 - accuracy: 0.2239 - val_loss: 2.2418 - val_accuracy: 0.2102\n",
      "Epoch 3/10\n",
      "30/30 [==============================] - 1s 28ms/step - loss: 2.1989 - accuracy: 0.2344 - val_loss: 2.1265 - val_accuracy: 0.2954\n",
      "Epoch 4/10\n",
      "30/30 [==============================] - 1s 34ms/step - loss: 2.0585 - accuracy: 0.2912 - val_loss: 2.0446 - val_accuracy: 0.3182\n",
      "Epoch 5/10\n",
      "30/30 [==============================] - 1s 37ms/step - loss: 1.9080 - accuracy: 0.3611 - val_loss: 1.9858 - val_accuracy: 0.3415\n",
      "Epoch 6/10\n",
      "30/30 [==============================] - 1s 33ms/step - loss: 1.7540 - accuracy: 0.4287 - val_loss: 1.9586 - val_accuracy: 0.3494\n",
      "Epoch 7/10\n",
      "30/30 [==============================] - 1s 36ms/step - loss: 1.5790 - accuracy: 0.5023 - val_loss: 1.9562 - val_accuracy: 0.3495\n",
      "Epoch 8/10\n",
      "30/30 [==============================] - 1s 32ms/step - loss: 1.4104 - accuracy: 0.5636 - val_loss: 1.9812 - val_accuracy: 0.3457\n",
      "Epoch 9/10\n",
      "30/30 [==============================] - 1s 39ms/step - loss: 1.2421 - accuracy: 0.6236 - val_loss: 2.0278 - val_accuracy: 0.3376\n",
      "Epoch 10/10\n",
      "30/30 [==============================] - 1s 34ms/step - loss: 1.0809 - accuracy: 0.6863 - val_loss: 2.0873 - val_accuracy: 0.3306\n"
     ]
    }
   ],
   "source": [
    "history = model.fit(X_train, y_train,\n",
    "                    epochs=10,\n",
    "                    verbose=True,\n",
    "                    validation_data=(X_test, y_test),\n",
    "                    batch_size=1024)\n",
    "\n",
    "from keras.backend import clear_session\n",
    "clear_session()"
   ]
  },
  {
   "cell_type": "code",
   "execution_count": 460,
   "id": "fresh-kansas",
   "metadata": {
    "scrolled": true
   },
   "outputs": [
    {
     "data": {
      "image/png": "[encoded data removed]",
      "text/plain": [
       "<Figure size 432x288 with 3 Axes>"
      ]
     },
     "metadata": {},
     "output_type": "display_data"
    }
   ],
   "source": [
    "import matplotlib.pyplot as plt\n",
    "\n",
    "# Create two subplots and unpack the output array immediately\n",
    "fig, (ax1, ax2, ax3) = plt.subplots(3, 1, constrained_layout=True)\n",
    "\n",
    "# Add a title to the axes\n",
    "ax1.set_title('LOSS = Sparse Categorical Crossentropy per EPOCH')\n",
    "ax2.set_title('ACCURACY per EPOCH')\n",
    "ax3.set_title('VAL_ACCURACY per EPOCH')\n",
    "\n",
    "# Add an x-label to the axes\n",
    "ax1.set_xlabel('EPOCHS')\n",
    "ax2.set_xlabel('EPOCHS')\n",
    "ax3.set_xlabel('EPOCHS')\n",
    "\n",
    "# Add a y-label to the axes\n",
    "ax1.set_ylabel('LOSS')\n",
    "ax2.set_ylabel('ACCURACY')\n",
    "ax3.set_ylabel('VAL_ACCURACY')\n",
    "\n",
    "\n",
    "# Plot results\n",
    "ax1.plot(history.history['loss'])\n",
    "ax2.plot(history.history['accuracy'])\n",
    "ax3.plot(history.history['val_accuracy'])\n",
    "\n",
    "# Add a grid\n",
    "ax1.grid(True)\n",
    "ax2.grid(True)\n",
    "ax3.grid(True)\n",
    "\n",
    "plt.show()"
   ]
  },
  {
   "cell_type": "code",
   "execution_count": 461,
   "id": "artificial-shaft",
   "metadata": {},
   "outputs": [
    {
     "name": "stdout",
     "output_type": "stream",
     "text": [
      "Epoch 1/10\n",
      "4/4 [==============================] - 1s 137ms/step - loss: 0.9639 - accuracy: 0.7282 - val_loss: 2.0954 - val_accuracy: 0.3300\n",
      "Epoch 2/10\n",
      "4/4 [==============================] - 1s 120ms/step - loss: 0.9480 - accuracy: 0.7336 - val_loss: 2.1060 - val_accuracy: 0.3304\n",
      "Epoch 3/10\n",
      "4/4 [==============================] - 0s 109ms/step - loss: 0.9299 - accuracy: 0.7361 - val_loss: 2.1176 - val_accuracy: 0.3295\n",
      "Epoch 4/10\n",
      "4/4 [==============================] - 0s 103ms/step - loss: 0.9123 - accuracy: 0.7430 - val_loss: 2.1288 - val_accuracy: 0.3288\n",
      "Epoch 5/10\n",
      "4/4 [==============================] - 0s 112ms/step - loss: 0.8943 - accuracy: 0.7460 - val_loss: 2.1390 - val_accuracy: 0.3283\n",
      "Epoch 6/10\n",
      "4/4 [==============================] - 0s 105ms/step - loss: 0.8756 - accuracy: 0.7545 - val_loss: 2.1485 - val_accuracy: 0.3278\n",
      "Epoch 7/10\n",
      "4/4 [==============================] - 0s 116ms/step - loss: 0.8605 - accuracy: 0.7579 - val_loss: 2.1588 - val_accuracy: 0.3260\n",
      "Epoch 8/10\n",
      "4/4 [==============================] - 0s 110ms/step - loss: 0.8426 - accuracy: 0.7647 - val_loss: 2.1699 - val_accuracy: 0.3252\n",
      "Epoch 9/10\n",
      "4/4 [==============================] - 0s 110ms/step - loss: 0.8284 - accuracy: 0.7689 - val_loss: 2.1818 - val_accuracy: 0.3248\n",
      "Epoch 10/10\n",
      "4/4 [==============================] - 0s 116ms/step - loss: 0.8121 - accuracy: 0.7744 - val_loss: 2.1937 - val_accuracy: 0.3246\n",
      "Training Accuracy: 0.8303\n",
      "Testing Accuracy:  0.3246\n"
     ]
    },
    {
     "data": {
      "image/png": "[encoded data removed]",
      "text/plain": [
       "<Figure size 864x360 with 2 Axes>"
      ]
     },
     "metadata": {},
     "output_type": "display_data"
    }
   ],
   "source": [
    "history = model.fit(X_train, y_train,\n",
    "                    epochs=10,\n",
    "                    verbose=True,\n",
    "                    validation_data=(X_test, y_test),\n",
    "                    batch_size=8192)\n",
    "\n",
    "from keras.backend import clear_session\n",
    "clear_session()\n",
    "\n",
    "loss, accuracy = model.evaluate(X_train, y_train, verbose=False)\n",
    "print(\"Training Accuracy: {:.4f}\".format(accuracy))\n",
    "loss, accuracy = model.evaluate(X_test, y_test, verbose=False)\n",
    "print(\"Testing Accuracy:  {:.4f}\".format(accuracy))\n",
    "plot_history(history)"
   ]
  },
  {
   "cell_type": "markdown",
   "id": "outer-globe",
   "metadata": {},
   "source": [
    "* Word Embedding"
   ]
  },
  {
   "cell_type": "markdown",
   "id": "rising-delaware",
   "metadata": {},
   "source": [
    "Quelle doit être le format de donnée en entrée de la couche \"Embedding\" ?\n",
    "\n",
    "Des listes de liste contenant des nombres correspondant aux mots de la phrase\n",
    "\n",
    "Expliquer ce que fait et le rôle de la fonction pad_sequence ? \n",
    "\n",
    "Transformer en des documens de meme taille\n",
    "\n",
    "Quelle sont les paramètres importants de cette fonction ?\n",
    "\n",
    "maxlen devient input_dim\n",
    "padding completer la taille des phrases < maxlen avece des zéros avant ou après les mots de la phrase\n",
    "\n",
    "Expliquer ce que fait et le rôle de la couche GlobalMaxPool1d ?\n",
    "\n",
    "réduction de dimension des vecteurs d'entrée en prenant la val max sur la dimension temporelle\n",
    "\n",
    "Quelle sont les paramètres importants ? Quelle alternatives existe il ?\n",
    "\n",
    "Flatten est une alternative possible, reshape\n",
    "\n",
    "\n",
    "Faire le f1_score pour chaque classe du text_emotion\n"
   ]
  },
  {
   "cell_type": "code",
   "execution_count": 899,
   "id": "infinite-longer",
   "metadata": {},
   "outputs": [
    {
     "data": {
      "text/plain": [
       "47912"
      ]
     },
     "execution_count": 899,
     "metadata": {},
     "output_type": "execute_result"
    }
   ],
   "source": [
    "X_train.shape[1]"
   ]
  },
  {
   "cell_type": "code",
   "execution_count": 1010,
   "id": "functioning-experiment",
   "metadata": {},
   "outputs": [],
   "source": [
    "### from keras.models import Sequentialw\n",
    "from tensorflow import keras\n",
    "from keras import layers, Sequential\n",
    "\n",
    "from keras.preprocessing.text import Tokenizer\n",
    "\n",
    "embedding_dim = 50\n",
    "tokenizer = Tokenizer(num_words=5000)\n",
    "tokenizer.fit_on_texts(sentences_train)\n",
    "\n",
    "X_train_1 = tokenizer.texts_to_sequences(sentences_train)\n",
    "X_test_1 = tokenizer.texts_to_sequences(sentences_test)\n",
    "\n",
    "vocab_size = len(tokenizer.word_index) + 1  # Adding 1 because of reserved 0 index\n",
    "\n",
    "from keras.preprocessing.sequence import pad_sequences\n",
    "\n",
    "maxlen = 100\n",
    "\n",
    "X_train = pad_sequences(X_train_1, padding='post', maxlen=maxlen)\n",
    "X_test = pad_sequences(X_test_1, padding='post', maxlen=maxlen)\n",
    "\n",
    "#print(X_train[0, :])\n",
    "\n",
    "input_dim = X_train.shape[1]  # Number of features\n",
    "\n",
    "from keras.backend import clear_session\n",
    "clear_session()\n",
    "\n",
    "model_NN = Sequential()\n",
    "model_NN.add(layers.Embedding(input_dim=vocab_size, \n",
    "                               output_dim=embedding_dim, \n",
    "                               input_length=maxlen))\n",
    "model_NN.add(layers.GlobalMaxPool1D())\n",
    "#model.add(layers.Dense(units = 100, activation = 'linear', input_dim=input_dim))\n",
    "#model.add(layers.Conv1D(16, 5, activation='relu'))\n",
    "#model.add(layers.GlobalMaxPooling1D())\n",
    "#model.add(layers.Dense(128, input_dim=input_dim, activation='relu'))\n",
    "#model.add(layers.Dropout(.1))\n",
    "\n",
    "model_NN.add(layers.Dense(10, input_dim=input_dim, activation='relu'))\n",
    "\n",
    "#model.add(layers.Dropout(.2))\n",
    "#model.add(layers.Dense(26, input_dim=input_dim, activation='relu'))\n",
    "model_NN.add(layers.Dense(13, activation='softmax'))"
   ]
  },
  {
   "cell_type": "code",
   "execution_count": 1011,
   "id": "happy-manchester",
   "metadata": {},
   "outputs": [
    {
     "name": "stdout",
     "output_type": "stream",
     "text": [
      "Model: \"sequential\"\n",
      "_________________________________________________________________\n",
      "Layer (type)                 Output Shape              Param #   \n",
      "=================================================================\n",
      "embedding (Embedding)        (None, 100, 50)           2000550   \n",
      "_________________________________________________________________\n",
      "global_max_pooling1d (Global (None, 50)                0         \n",
      "_________________________________________________________________\n",
      "dense (Dense)                (None, 10)                510       \n",
      "_________________________________________________________________\n",
      "dense_1 (Dense)              (None, 13)                143       \n",
      "=================================================================\n",
      "Total params: 2,001,203\n",
      "Trainable params: 2,001,203\n",
      "Non-trainable params: 0\n",
      "_________________________________________________________________\n"
     ]
    }
   ],
   "source": [
    "model_NN.compile(loss='sparse_categorical_crossentropy', \n",
    "              optimizer='adam', \n",
    "              metrics=['accuracy'])\n",
    "model_NN.summary()"
   ]
  },
  {
   "cell_type": "code",
   "execution_count": 1012,
   "id": "random-speaker",
   "metadata": {},
   "outputs": [
    {
     "name": "stdout",
     "output_type": "stream",
     "text": [
      "Epoch 1/10\n",
      "118/118 [==============================] - 7s 52ms/step - loss: 2.4710 - accuracy: 0.1536 - val_loss: 2.2109 - val_accuracy: 0.2146\n",
      "Epoch 2/10\n",
      "118/118 [==============================] - 5s 45ms/step - loss: 2.1677 - accuracy: 0.2296 - val_loss: 2.0846 - val_accuracy: 0.2846\n",
      "Epoch 3/10\n",
      "118/118 [==============================] - 5s 43ms/step - loss: 2.0323 - accuracy: 0.3222 - val_loss: 2.0162 - val_accuracy: 0.3233\n",
      "Epoch 4/10\n",
      "118/118 [==============================] - 5s 43ms/step - loss: 1.9496 - accuracy: 0.3510 - val_loss: 1.9696 - val_accuracy: 0.3339\n",
      "Epoch 5/10\n",
      "118/118 [==============================] - 5s 45ms/step - loss: 1.8703 - accuracy: 0.3686 - val_loss: 1.9396 - val_accuracy: 0.3385\n",
      "Epoch 6/10\n",
      "118/118 [==============================] - 6s 47ms/step - loss: 1.8178 - accuracy: 0.3859 - val_loss: 1.9270 - val_accuracy: 0.3409\n",
      "Epoch 7/10\n",
      "118/118 [==============================] - 6s 47ms/step - loss: 1.7501 - accuracy: 0.4112 - val_loss: 1.9241 - val_accuracy: 0.3419\n",
      "Epoch 8/10\n",
      "118/118 [==============================] - 5s 45ms/step - loss: 1.6978 - accuracy: 0.4305 - val_loss: 1.9298 - val_accuracy: 0.3411\n",
      "Epoch 9/10\n",
      "118/118 [==============================] - 6s 47ms/step - loss: 1.6570 - accuracy: 0.4467 - val_loss: 1.9409 - val_accuracy: 0.3447\n",
      "Epoch 10/10\n",
      "118/118 [==============================] - 5s 46ms/step - loss: 1.5909 - accuracy: 0.4715 - val_loss: 1.9602 - val_accuracy: 0.3405\n",
      "938/938 [==============================] - 5s 5ms/step - loss: 1.5372 - accuracy: 0.4950\n",
      "Training Accuracy: 0.4950\n",
      "313/313 [==============================] - 2s 5ms/step - loss: 1.9602 - accuracy: 0.3405\n",
      "Testing Accuracy:  0.3405\n"
     ]
    },
    {
     "data": {
      "image/png": "[encoded data removed]",
      "text/plain": [
       "<Figure size 864x360 with 2 Axes>"
      ]
     },
     "metadata": {},
     "output_type": "display_data"
    }
   ],
   "source": [
    "history = model_NN.fit(X_train, y_train,\n",
    "                       epochs=10,\n",
    "                       verbose=True,\n",
    "                       validation_data=(X_test, y_test),\n",
    "                       batch_size=256)\n",
    "\n",
    "loss, accuracy = model_NN.evaluate(X_train, y_train, verbose=True)\n",
    "print(\"Training Accuracy: {:.4f}\".format(accuracy))\n",
    "loss, accuracy = model_NN.evaluate(X_test, y_test, verbose=True)\n",
    "print(\"Testing Accuracy:  {:.4f}\".format(accuracy))\n",
    "plot_history(history)"
   ]
  },
  {
   "cell_type": "code",
   "execution_count": 1013,
   "id": "superior-original",
   "metadata": {},
   "outputs": [],
   "source": [
    "from sklearn.metrics import classification_report\n",
    "#print(classification_report(y_test, y_pred, target_names=target_names))"
   ]
  },
  {
   "cell_type": "code",
   "execution_count": 1014,
   "id": "meaningful-integer",
   "metadata": {},
   "outputs": [
    {
     "name": "stdout",
     "output_type": "stream",
     "text": [
      "313/313 [==============================] - 1s 4ms/step\n"
     ]
    }
   ],
   "source": [
    "y_pred = model_NN.predict(X_test, verbose=1)"
   ]
  },
  {
   "cell_type": "code",
   "execution_count": 1015,
   "id": "freelance-victim",
   "metadata": {},
   "outputs": [
    {
     "data": {
      "text/plain": [
       "(10000, 100)"
      ]
     },
     "execution_count": 1015,
     "metadata": {},
     "output_type": "execute_result"
    }
   ],
   "source": [
    "X_test.shape"
   ]
  },
  {
   "cell_type": "code",
   "execution_count": 1016,
   "id": "square-employee",
   "metadata": {},
   "outputs": [
    {
     "name": "stdout",
     "output_type": "stream",
     "text": [
      "[[0.00067083 0.00157261 0.00966945 ... 0.21040125 0.02118632 0.31914243]\n",
      " [0.00267203 0.00321891 0.02312646 ... 0.06035089 0.10670493 0.24752761]\n",
      " [0.00059837 0.00230166 0.01138198 ... 0.01042188 0.02464274 0.00753237]\n",
      " ...\n",
      " [0.00225357 0.00267658 0.01993347 ... 0.05791739 0.1023447  0.2828431 ]\n",
      " [0.003761   0.00567541 0.02809221 ... 0.08854594 0.05316925 0.22137918]\n",
      " [0.00171289 0.00180625 0.00965732 ... 0.13291638 0.03209105 0.5087993 ]]\n"
     ]
    }
   ],
   "source": [
    "print(y_pred)"
   ]
  },
  {
   "cell_type": "code",
   "execution_count": null,
   "id": "common-roberts",
   "metadata": {},
   "outputs": [],
   "source": []
  },
  {
   "cell_type": "code",
   "execution_count": 1017,
   "id": "protective-broad",
   "metadata": {},
   "outputs": [
    {
     "data": {
      "text/plain": [
       "array(['anger', 'boredom', 'empty', 'enthusiasm', 'fun', 'happiness',\n",
       "       'hate', 'love', 'neutral', 'relief', 'sadness', 'surprise',\n",
       "       'worry'], dtype=object)"
      ]
     },
     "execution_count": 1017,
     "metadata": {},
     "output_type": "execute_result"
    }
   ],
   "source": [
    "labels = np.unique(df2['label'].values)\n",
    "labels"
   ]
  },
  {
   "cell_type": "code",
   "execution_count": 1018,
   "id": "reflected-shift",
   "metadata": {},
   "outputs": [
    {
     "name": "stdout",
     "output_type": "stream",
     "text": [
      "              precision    recall  f1-score   support\n",
      "\n",
      "       anger       0.00      0.00      0.00        27\n",
      "     boredom       0.00      0.00      0.00        44\n",
      "       empty       0.00      0.00      0.00       203\n",
      "  enthusiasm       0.00      0.00      0.00       202\n",
      "         fun       0.00      0.00      0.00       450\n",
      "   happiness       0.30      0.47      0.37      1290\n",
      "        hate       0.47      0.13      0.20       340\n",
      "        love       0.41      0.38      0.39       949\n",
      "     neutral       0.37      0.51      0.43      2166\n",
      "      relief       0.00      0.00      0.00       382\n",
      "     sadness       0.34      0.21      0.26      1296\n",
      "    surprise       0.27      0.01      0.01       549\n",
      "       worry       0.32      0.49      0.38      2102\n",
      "\n",
      "    accuracy                           0.34     10000\n",
      "   macro avg       0.19      0.17      0.16     10000\n",
      "weighted avg       0.30      0.34      0.30     10000\n",
      "\n"
     ]
    }
   ],
   "source": [
    "print(classification_report(y_test, y_pred.argmax(1), target_names=labels, zero_division=0))"
   ]
  },
  {
   "cell_type": "code",
   "execution_count": 1019,
   "id": "capital-physics",
   "metadata": {},
   "outputs": [],
   "source": [
    "def emotion_prediction(text, model):\n",
    "    corpus_self = tokenizer.texts_to_sequences([text])\n",
    "    corpus_pad = pad_sequences(corpus_self, padding='post', maxlen=maxlen)\n",
    "    prediction_1 = model.predict(corpus_pad, batch_size=64, verbose=1)\n",
    "    max_d = np.argmax(prediction_1)\n",
    "    emotion_final = le.inverse_transform([max_d])\n",
    "    print(emotion_final)\n",
    "  #return emotion_final"
   ]
  },
  {
   "cell_type": "code",
   "execution_count": null,
   "id": "fixed-malawi",
   "metadata": {},
   "outputs": [],
   "source": [
    "phrase = input()\n",
    "\n",
    "emotion_prediction(phrase, model_NN)"
   ]
  },
  {
   "cell_type": "code",
   "execution_count": null,
   "id": "atmospheric-cartoon",
   "metadata": {},
   "outputs": [],
   "source": []
  }
 ],
 "metadata": {
  "kernelspec": {
   "display_name": "keras",
   "language": "python",
   "name": "keras"
  },
  "language_info": {
   "codemirror_mode": {
    "name": "ipython",
    "version": 3
   },
   "file_extension": ".py",
   "mimetype": "text/x-python",
   "name": "python",
   "nbconvert_exporter": "python",
   "pygments_lexer": "ipython3",
   "version": "3.8.8"
  }
 },
 "nbformat": 4,
 "nbformat_minor": 5
}
